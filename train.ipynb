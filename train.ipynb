{
 "cells": [
  {
   "cell_type": "code",
   "execution_count": 1,
   "id": "5a46bc25",
   "metadata": {},
   "outputs": [
    {
     "name": "stdout",
     "output_type": "stream",
     "text": [
      "Requirement already satisfied: nltk in c:\\users\\ishas\\anaconda3\\lib\\site-packages (3.8.1)\n",
      "Requirement already satisfied: click in c:\\users\\ishas\\anaconda3\\lib\\site-packages (from nltk) (8.0.4)\n",
      "Requirement already satisfied: joblib in c:\\users\\ishas\\anaconda3\\lib\\site-packages (from nltk) (1.2.0)\n",
      "Requirement already satisfied: regex>=2021.8.3 in c:\\users\\ishas\\anaconda3\\lib\\site-packages (from nltk) (2022.7.9)\n",
      "Requirement already satisfied: tqdm in c:\\users\\ishas\\anaconda3\\lib\\site-packages (from nltk) (4.65.0)\n",
      "Requirement already satisfied: colorama in c:\\users\\ishas\\anaconda3\\lib\\site-packages (from click->nltk) (0.4.6)\n"
     ]
    },
    {
     "name": "stderr",
     "output_type": "stream",
     "text": [
      "[nltk_data] Downloading package punkt to\n",
      "[nltk_data]     C:\\Users\\ishas\\AppData\\Roaming\\nltk_data...\n",
      "[nltk_data]   Package punkt is already up-to-date!\n"
     ]
    },
    {
     "name": "stdout",
     "output_type": "stream",
     "text": [
      "How are you'll?\n",
      "['How', 'are', 'you', \"'ll\", '?']\n",
      "['organ', 'organ', 'organ']\n"
     ]
    },
    {
     "name": "stderr",
     "output_type": "stream",
     "text": [
      "[nltk_data] Downloading package punkt to\n",
      "[nltk_data]     C:\\Users\\ishas\\AppData\\Roaming\\nltk_data...\n",
      "[nltk_data]   Package punkt is already up-to-date!\n"
     ]
    },
    {
     "data": {
      "text/plain": [
       "True"
      ]
     },
     "execution_count": 1,
     "metadata": {},
     "output_type": "execute_result"
    }
   ],
   "source": [
    "import json\n",
    "from nltk_utils import tokenize, stem,bag_of_words\n",
    "import torch\n",
    "import torch.nn as nn\n",
    "from torch.utils.data import Dataset, DataLoader\n",
    "from model import NeuralNet\n",
    "from nltk.stem.porter import PorterStemmer\n",
    "import numpy as np\n",
    "import nltk\n",
    "nltk.download('punkt')"
   ]
  },
  {
   "cell_type": "code",
   "execution_count": 2,
   "id": "8441342c",
   "metadata": {},
   "outputs": [],
   "source": [
    "with open('intents.json','r')as f:\n",
    "    intents_dict = json.load(f)\n"
   ]
  },
  {
   "cell_type": "code",
   "execution_count": 4,
   "id": "1a319148",
   "metadata": {},
   "outputs": [],
   "source": [
    "all_words = []\n",
    "tags = []\n",
    "xy = []"
   ]
  },
  {
   "cell_type": "code",
   "execution_count": 5,
   "id": "e72dc292",
   "metadata": {},
   "outputs": [],
   "source": [
    "for intent in intents_dict['intents']:\n",
    "    tag = intent['tag']\n",
    "    tags.append(tag)\n",
    "    for pattern in intent['patterns']:\n",
    "        w = tokenize(pattern)\n",
    "        all_words.extend(w)\n",
    "        xy.append((w,tag)) \n"
   ]
  },
  {
   "cell_type": "code",
   "execution_count": 6,
   "id": "b6274fcb",
   "metadata": {},
   "outputs": [],
   "source": [
    "ignore_verbs = ['?', '!', ',', '.']\n",
    "all_words = [stem(w) for w in all_words if w not in ignore_verbs]\n",
    "all_words = sorted(set(all_words))\n",
    "tags = sorted(set(tags))"
   ]
  },
  {
   "cell_type": "code",
   "execution_count": 7,
   "id": "c0efbbb7",
   "metadata": {},
   "outputs": [],
   "source": [
    "X_train = [] #bag of words\n",
    "y_train = []\n",
    "for (pattern_sentence,tag) in xy:\n",
    "    bag = bag_of_words(pattern_sentence,all_words)\n",
    "    X_train.append(bag)\n",
    "\n",
    "    \n",
    "    label = tags.index(tag)\n",
    "    y_train.append(label) #CrossEntropyLossX_\n",
    "\n",
    "X_train = np.array(X_train)\n",
    "y_train = np.array(y_train)\n"
   ]
  },
  {
   "cell_type": "code",
   "execution_count": 13,
   "id": "092d199f",
   "metadata": {},
   "outputs": [],
   "source": [
    "#hyperparameter\n",
    "batch_size = 8\n",
    "hidden_size = 8#no of neurons in the hidden layer\n",
    "output_size = len(tags)\n",
    "input_size = len(X_train[0])\n",
    "learning_rate = 0.001\n",
    "num_epochs = 2000"
   ]
  },
  {
   "cell_type": "code",
   "execution_count": 14,
   "id": "632bf1f1",
   "metadata": {},
   "outputs": [],
   "source": [
    "class ChatDataset(Dataset):\n",
    "    def __init__(self):\n",
    "        self.n_samples = len(X_train)\n",
    "        self.x_data = X_train\n",
    "        self.y_data = y_train\n",
    "        \n",
    "    def __getitem__(self,index):\n",
    "        return self.x_data[index], self.y_data[index]\n",
    "    \n",
    "    def __len__(self):\n",
    "        return self.n_samples\n",
    "    \n",
    "    \n",
    "dataset = ChatDataset()\n",
    "train_loader = DataLoader(dataset= dataset, batch_size = batch_size, shuffle = True, num_workers = 0)"
   ]
  },
  {
   "cell_type": "code",
   "execution_count": 15,
   "id": "fed30f3e",
   "metadata": {},
   "outputs": [],
   "source": [
    "device = torch.device('cuda' if torch.cuda.is_available() else 'cpu')\n",
    "model = NeuralNet(input_size, hidden_size, output_size).to(device)\n",
    "\n"
   ]
  },
  {
   "cell_type": "code",
   "execution_count": 16,
   "id": "d9b2284f",
   "metadata": {},
   "outputs": [],
   "source": [
    "#loss and optimizer\n",
    "criterion = nn.CrossEntropyLoss()\n",
    "optimizer = torch.optim.Adam(model.parameters(),lr = learning_rate)"
   ]
  },
  {
   "cell_type": "code",
   "execution_count": 17,
   "id": "7e9251b4",
   "metadata": {},
   "outputs": [
    {
     "name": "stdout",
     "output_type": "stream",
     "text": [
      "epoch100/2000, loss = 1.2563\n",
      "epoch200/2000, loss = 0.3431\n",
      "epoch300/2000, loss = 0.2949\n",
      "epoch400/2000, loss = 0.2911\n",
      "epoch500/2000, loss = 0.0675\n",
      "epoch600/2000, loss = 0.0025\n",
      "epoch700/2000, loss = 0.0021\n",
      "epoch800/2000, loss = 0.0041\n",
      "epoch900/2000, loss = 0.0007\n",
      "epoch1000/2000, loss = 0.0030\n",
      "epoch1100/2000, loss = 0.0015\n",
      "epoch1200/2000, loss = 0.0007\n",
      "epoch1300/2000, loss = 0.0005\n",
      "epoch1400/2000, loss = 0.0007\n",
      "epoch1500/2000, loss = 0.0004\n",
      "epoch1600/2000, loss = 0.0003\n",
      "epoch1700/2000, loss = 0.0001\n",
      "epoch1800/2000, loss = 0.0003\n",
      "epoch1900/2000, loss = 0.0001\n",
      "epoch2000/2000, loss = 0.0001\n",
      "final loss, loss = 0.0001\n"
     ]
    }
   ],
   "source": [
    "for epoch in range(num_epochs):\n",
    "    for(words,labels) in train_loader:\n",
    "        words = words.to(device)\n",
    "        labels = labels.to(torch.long)\n",
    "        labels = labels.to(device)\n",
    "        #forward pass\n",
    "        outputs = model(words)\n",
    "        loss = criterion(outputs,labels)\n",
    "        #backward and optimizer\n",
    "        optimizer.zero_grad() # emptying the gradient\n",
    "        loss.backward()#compute gradients by backpropagation\n",
    "        optimizer.step()#update model parameters using optimizer\n",
    "    if(epoch + 1) % 100 == 0:\n",
    "        print(f'epoch{epoch+1}/{num_epochs}, loss = {float(loss.item()):.4f}')\n",
    "print(f'final loss, loss = {loss.item():.4f}')\n",
    "        "
   ]
  },
  {
   "cell_type": "code",
   "execution_count": 22,
   "id": "5f380489",
   "metadata": {},
   "outputs": [
    {
     "name": "stdout",
     "output_type": "stream",
     "text": [
      "training complete.file saved to data.pth\n"
     ]
    }
   ],
   "source": [
    "data ={\n",
    "    \"model_state\":model.state_dict(),\n",
    "    \"input_size\": input_size,\n",
    "    \"output_size\": output_size,\n",
    "    \"hidden_size\": hidden_size,\n",
    "    \"all_words\": all_words,\n",
    "    \"tags\": tags\n",
    "    \n",
    "}\n",
    "\n",
    "FILE = \"data.pth\"\n",
    "torch.save(data,FILE)\n",
    "\n",
    "print(f'training complete.file saved to {FILE}')"
   ]
  }
 ],
 "metadata": {
  "kernelspec": {
   "display_name": "Python 3 (ipykernel)",
   "language": "python",
   "name": "python3"
  },
  "language_info": {
   "codemirror_mode": {
    "name": "ipython",
    "version": 3
   },
   "file_extension": ".py",
   "mimetype": "text/x-python",
   "name": "python",
   "nbconvert_exporter": "python",
   "pygments_lexer": "ipython3",
   "version": "3.11.5"
  }
 },
 "nbformat": 4,
 "nbformat_minor": 5
}
