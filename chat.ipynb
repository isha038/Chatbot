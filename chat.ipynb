{
 "cells": [
  {
   "cell_type": "code",
   "execution_count": 1,
   "id": "e4d64ad9",
   "metadata": {},
   "outputs": [
    {
     "name": "stdout",
     "output_type": "stream",
     "text": [
      "Requirement already satisfied: nltk in c:\\users\\ishas\\anaconda3\\lib\\site-packages (3.8.1)\n",
      "Requirement already satisfied: click in c:\\users\\ishas\\anaconda3\\lib\\site-packages (from nltk) (8.0.4)\n",
      "Requirement already satisfied: joblib in c:\\users\\ishas\\anaconda3\\lib\\site-packages (from nltk) (1.2.0)\n",
      "Requirement already satisfied: regex>=2021.8.3 in c:\\users\\ishas\\anaconda3\\lib\\site-packages (from nltk) (2022.7.9)\n",
      "Requirement already satisfied: tqdm in c:\\users\\ishas\\anaconda3\\lib\\site-packages (from nltk) (4.65.0)\n",
      "Requirement already satisfied: colorama in c:\\users\\ishas\\anaconda3\\lib\\site-packages (from click->nltk) (0.4.6)\n",
      "How are you'll?\n",
      "['How', 'are', 'you', \"'ll\", '?']\n",
      "['organ', 'organ', 'organ']\n"
     ]
    },
    {
     "name": "stderr",
     "output_type": "stream",
     "text": [
      "[nltk_data] Downloading package punkt to\n",
      "[nltk_data]     C:\\Users\\ishas\\AppData\\Roaming\\nltk_data...\n",
      "[nltk_data]   Package punkt is already up-to-date!\n"
     ]
    }
   ],
   "source": [
    "import random\n",
    "import json\n",
    "import torch\n",
    "from model import NeuralNet\n",
    "from nltk_utils import bag_of_words, tokenize"
   ]
  },
  {
   "cell_type": "code",
   "execution_count": 2,
   "id": "77486fdc",
   "metadata": {},
   "outputs": [
    {
     "data": {
      "text/plain": [
       "NeuralNet(\n",
       "  (l1): Linear(in_features=56, out_features=8, bias=True)\n",
       "  (l2): Linear(in_features=8, out_features=8, bias=True)\n",
       "  (l3): Linear(in_features=8, out_features=7, bias=True)\n",
       "  (relu): ReLU()\n",
       ")"
      ]
     },
     "execution_count": 2,
     "metadata": {},
     "output_type": "execute_result"
    }
   ],
   "source": [
    "device = torch.device('cuda' if torch.cuda.is_available() else 'cpu')\n",
    "with open('intents.json','r') as f:\n",
    "    intents_dict = json.load(f)\n",
    "FILE =\"data.pth\"\n",
    "data = torch.load(FILE)\n",
    "\n",
    "input_size = data[\"input_size\"]\n",
    "hidden_size = data[\"hidden_size\"]\n",
    "output_size = data[\"output_size\"]\n",
    "all_words = data[\"all_words\"]\n",
    "tags = data[\"tags\"]\n",
    "model_state = data[\"model_state\"]\n",
    "model = NeuralNet(input_size, hidden_size, output_size).to(device)\n",
    "model.load_state_dict(model_state)\n",
    "model.eval()\n",
    "\n"
   ]
  },
  {
   "cell_type": "code",
   "execution_count": 4,
   "id": "27e042f8",
   "metadata": {},
   "outputs": [
    {
     "name": "stdout",
     "output_type": "stream",
     "text": [
      "Let's chat! type 'quit' to exit\n",
      "You: hi\n",
      "Ishika:Hi there! What can I do for you?\n",
      "You: can i buy a tshirt from your company?\n",
      "Ishika:We accept VISA, Mastercard and Paypal.However, we do not accept cash.\n",
      "You: what can i buy?\n",
      "Ishika:I do not understand....\n",
      "You: what do you sell?\n",
      "Ishika:We sell tshirts and tops for ladies.\n",
      "You: how can i pay?\n",
      "Ishika:We accept VISA, Mastercard and Paypal.However, we do not accept cash.\n",
      "You: tell me a joke\n",
      "Ishika:What did the buffalo say when his son left for college? Bison.\n",
      "You: tell me another joke\n",
      "Ishika:Why did the hipster burn his mouth? He drank the coffee before it was cool.\n",
      "You: how many jokes do you know\n",
      "Ishika:We accept most major credit cards, and Paypal.However, we do not accept cash.\n",
      "You: quit\n"
     ]
    }
   ],
   "source": [
    "bot_name = \"Ishika\"\n",
    "print(\"Let's chat! type 'quit' to exit\")\n",
    "while True:\n",
    "    sentence = input(\"You: \")\n",
    "    if sentence == \"quit\":\n",
    "        break\n",
    "    sentence = tokenize(sentence)\n",
    "    X = bag_of_words(sentence, all_words)\n",
    "    X = X.reshape(1, X.shape[0])\n",
    "    X = torch.from_numpy(X)\n",
    "    \n",
    "    output = model(X)\n",
    "    _, predicted = torch.max(output,dim = 1)\n",
    "    tag = tags[predicted.item()]\n",
    "    \n",
    "    probs = torch.softmax(output, dim = 1)\n",
    "    prob = probs[0][predicted.item()]\n",
    "    \n",
    "    if(prob.item()>0.75):\n",
    "        for intent in intents_dict[\"intents\"]:\n",
    "            if(tag == intent[\"tag\"]):\n",
    "                print(f\"{bot_name}:{random.choice(intent['responses'])}\")\n",
    "    else:\n",
    "        print(f'{bot_name}:I do not understand....')\n",
    "        \n",
    "\n",
    "    "
   ]
  }
 ],
 "metadata": {
  "kernelspec": {
   "display_name": "Python 3 (ipykernel)",
   "language": "python",
   "name": "python3"
  },
  "language_info": {
   "codemirror_mode": {
    "name": "ipython",
    "version": 3
   },
   "file_extension": ".py",
   "mimetype": "text/x-python",
   "name": "python",
   "nbconvert_exporter": "python",
   "pygments_lexer": "ipython3",
   "version": "3.11.5"
  }
 },
 "nbformat": 4,
 "nbformat_minor": 5
}
